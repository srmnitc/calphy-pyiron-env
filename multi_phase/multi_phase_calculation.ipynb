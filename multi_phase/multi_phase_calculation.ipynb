{
 "cells": [
  {
   "cell_type": "code",
   "execution_count": 2,
   "id": "62030542-c073-483c-9b7e-e146bf1219be",
   "metadata": {},
   "outputs": [],
   "source": [
    "from pyiron_atomistics import Project\n",
    "import os\n",
    "import numpy as np\n",
    "import matplotlib.pyplot as plt\n",
    "from helpers import *"
   ]
  },
  {
   "cell_type": "code",
   "execution_count": null,
   "id": "8365419a-1a64-4de3-8a4b-5f7cf0086c07",
   "metadata": {},
   "outputs": [],
   "source": [
    "from pychromatic import Multiplot\n",
    "from pychromatic.colors import accent"
   ]
  },
  {
   "cell_type": "code",
   "execution_count": 3,
   "id": "b0c936ea-952a-45a0-b3a7-0807a6497bb0",
   "metadata": {},
   "outputs": [],
   "source": [
    "pr = Project(\"mp\")"
   ]
  },
  {
   "cell_type": "markdown",
   "id": "e8a47843-7cd7-46a5-ab73-b1be1506d7ec",
   "metadata": {},
   "source": [
    "This is the input used for initial calculations, probably needs to be increased"
   ]
  },
  {
   "cell_type": "code",
   "execution_count": null,
   "id": "3cdba9a4-034b-4d40-8b04-79726326aebc",
   "metadata": {},
   "outputs": [],
   "source": [
    "n_eq = 20000\n",
    "n_int = 50000\n",
    "n_iter = 1\n",
    "N = 8"
   ]
  },
  {
   "cell_type": "markdown",
   "id": "2ee246f7-b675-460f-b842-46932d082a0b",
   "metadata": {},
   "source": [
    "Composition and temp array, for testing, probably better to use very few values"
   ]
  },
  {
   "cell_type": "code",
   "execution_count": null,
   "id": "8a3de79b-93a2-4a63-9a82-ae35d6c51fa8",
   "metadata": {},
   "outputs": [],
   "source": [
    "comp_array = np.arange(0, 0.6, 0.1)\n",
    "temp_array = np.arange(500, 1000, 50)"
   ]
  },
  {
   "cell_type": "code",
   "execution_count": null,
   "id": "51481868-b5fc-4751-8b13-7fa5d0c47c88",
   "metadata": {},
   "outputs": [],
   "source": [
    "for comp in comp_array:\n",
    "    for temp in temp_array:\n",
    "        #fcc job\n",
    "        job = pr.create.job.Calphy('fcc_%.2f_%d'%(comp, int(temp)), \n",
    "                                   delete_aborted_job=True, \n",
    "                                   delete_existing_job=True)\n",
    "        structure = pr.create.structure.bulk(\"Al\", cubic=True).repeat(N)\n",
    "        job.structure = replace_atom(structure, 'Li', to_replace=int(N**3*4*comp))\n",
    "        job.potential = 'AlLi-atomicrex'\n",
    "        job.server.cores = 16\n",
    "        #job.server.queue = \"s_cmfe\"\n",
    "        job.calc_free_energy(temperature=int(temp), \n",
    "                             pressure=0,\n",
    "                             n_equilibration_steps=n_eq, \n",
    "                             n_switching_steps=n_int,\n",
    "                             n_iterations=n_iter,\n",
    "                             reference_phase=\"solid\")\n",
    "        job.run()\n",
    "\n",
    "        #lqd job\n",
    "        job = pr.create.job.Calphy('lqd_%.2f_%d'%(comp, int(temp)), \n",
    "                                   delete_aborted_job=True, \n",
    "                                   delete_existing_job=True)\n",
    "        structure = pr.create.structure.bulk(\"Al\", cubic=True).repeat(N)\n",
    "        job.structure = replace_atom(structure, 'Li', to_replace=int(N**3*4*comp))\n",
    "        job.potential = 'AlLi-atomicrex'\n",
    "        job.server.cores = 16\n",
    "        #job.server.queue = \"s_cmfe\"\n",
    "        job.calc_free_energy(temperature=int(temp), \n",
    "                             pressure=0,\n",
    "                             n_equilibration_steps=n_eq, \n",
    "                             n_switching_steps=n_int,\n",
    "                             n_iterations=n_iter,\n",
    "                             reference_phase=\"liquid\")\n",
    "        job.run()\n",
    "        \n",
    "        #b32 job\n",
    "        job = pr.create.job.Calphy('b32_%.2f_%d'%(comp, int(temp)), \n",
    "                                   delete_aborted_job=True, \n",
    "                                   delete_existing_job=True)\n",
    "        structure = pr.create.structure.ase.read('LiAl_pos2', format='vasp')\n",
    "        job.structure = replace_atoms(structure, 'Al', int(len(structure)/2-len(structure)*comp))\n",
    "        job.potential = 'AlLi-atomicrex'\n",
    "        job.server.cores = 16\n",
    "        #job.server.queue = \"s_cmfe\"\n",
    "        job.calc_free_energy(temperature=int(temp), \n",
    "                             pressure=0,\n",
    "                             n_equilibration_steps=n_eq, \n",
    "                             n_switching_steps=n_int,\n",
    "                             n_iterations=n_iter,\n",
    "                             reference_phase=\"solid\")\n",
    "        job.run()"
   ]
  },
  {
   "cell_type": "markdown",
   "id": "d0f73645-0ce0-4e4f-a1ba-4134b04d2f40",
   "metadata": {},
   "source": [
    "Analysis"
   ]
  },
  {
   "cell_type": "code",
   "execution_count": null,
   "id": "d9407d40-47a2-449a-83bc-d7d8d804e0eb",
   "metadata": {},
   "outputs": [],
   "source": [
    "df = create_dataframe(pr)"
   ]
  },
  {
   "cell_type": "markdown",
   "id": "d77d48f2-362c-4cc0-b232-deff9e61478f",
   "metadata": {},
   "source": [
    "The analysis is at the moment done for different temperature values manually. The reason is so that to ensure common tangent construction makes sense. We could do this automatically.."
   ]
  },
  {
   "cell_type": "code",
   "execution_count": null,
   "id": "aa5c5dea-a606-4dc3-adb4-70de715deb18",
   "metadata": {},
   "outputs": [],
   "source": [
    "phases = []"
   ]
  },
  {
   "cell_type": "code",
   "execution_count": null,
   "id": "ea293e4f-129d-4c11-9fc3-edb0601b6fea",
   "metadata": {},
   "outputs": [],
   "source": [
    "temp = 900\n",
    "fitorder = 2\n",
    "conc, fcc, fit_fcc = extract_fe(df, 'fcc', temp, fitorder=fitorder)\n",
    "conc, b32, fit_b32 = extract_fe(df, 'b32', temp, fitorder=fitorder)\n",
    "conc, lqd, fit_lqd = extract_fe(df, 'lqd', temp, fitorder=fitorder)\n",
    "norms  = normalise_curves([lqd, fcc, b32], conc)"
   ]
  },
  {
   "cell_type": "code",
   "execution_count": null,
   "id": "e203cbe4-981a-4e98-a0c7-3d5b7c7bacad",
   "metadata": {},
   "outputs": [],
   "source": [
    "cx1, cf1, cost1 = find_common_tangent(conc, norms[0], norms[1])\n",
    "cx2, cf2, cost2 = find_common_tangent(conc, norms[0], norms[2])\n",
    "cx3, cf3, cost3 = find_common_tangent(conc, norms[1], norms[2])\n",
    "print(cx1, cf1, cost1)\n",
    "print(cx2, cf2, cost2)\n",
    "print(cx3, cf3, cost3)"
   ]
  },
  {
   "cell_type": "code",
   "execution_count": null,
   "id": "a408fef3-a671-46f0-9432-6300e9d15160",
   "metadata": {},
   "outputs": [],
   "source": [
    "mlt = Multiplot(width=300)\n",
    "mlt[0,0].plot(conc, norms[0], label='lqd', color=accent['pblue'])\n",
    "mlt[0,0].plot(conc, norms[1], label='fcc', color=accent['pred'])\n",
    "mlt[0,0].plot(conc, norms[2], label='b32', color=accent['pgreen'])\n",
    "mlt[0,0].legend(frameon=False)\n",
    "mlt[0,0].set_xlabel(r'$x_\\mathrm{Li}$ (at. w%)', fontsize=10)\n",
    "mlt[0,0].set_ylabel('F (eV)', fontsize=10)\n",
    "mlt[0,0].set_title(f'T={temp} K', fontsize=10);\n",
    "\n",
    "mlt[0,0].plot(cx1, cf1, color=accent['lgrey'], ls='dashed')\n",
    "mlt[0,0].plot(cx2, cf2, color=accent['lgrey'], ls='dotted')\n",
    "mlt[0,0].plot(cx3, cf3, color=accent['lgrey'], ls='dotted')"
   ]
  },
  {
   "cell_type": "markdown",
   "id": "24417ffe-ae26-49e0-ac30-ded6877cf415",
   "metadata": {},
   "source": [
    "Only relevant values are added to the `phases` list"
   ]
  },
  {
   "cell_type": "code",
   "execution_count": null,
   "id": "85a65608-27cb-424e-9044-fe4a942b4dd7",
   "metadata": {},
   "outputs": [],
   "source": [
    "phases.append({'conc': cx1, 't':[temp, temp], 'c': accent['pred']})\n",
    "phases.append({'conc': cx2, 't':[temp, temp], 'c': accent['pgreen']})\n",
    "#phases.append({'conc': cx3, 't':[temp, temp], 'c': accent['pyellow']})"
   ]
  },
  {
   "cell_type": "markdown",
   "id": "82415303-5067-4d9e-9fc3-0ed469eac63d",
   "metadata": {},
   "source": [
    "Repeat for other temperatures,"
   ]
  },
  {
   "cell_type": "markdown",
   "id": "735ea7cc-d9fb-45b0-861e-cc83f2e39079",
   "metadata": {},
   "source": [
    "Not a great plot, but gives the salient points:"
   ]
  },
  {
   "cell_type": "code",
   "execution_count": null,
   "id": "ec2a8486-3e3f-4d33-84be-a623482d6b0b",
   "metadata": {},
   "outputs": [],
   "source": [
    "for p in phases:\n",
    "    plt.plot(p['conc'], p['t'], color=p['c'])"
   ]
  }
 ],
 "metadata": {
  "kernelspec": {
   "display_name": "Python 3 (ipykernel)",
   "language": "python",
   "name": "python3"
  },
  "language_info": {
   "codemirror_mode": {
    "name": "ipython",
    "version": 3
   },
   "file_extension": ".py",
   "mimetype": "text/x-python",
   "name": "python",
   "nbconvert_exporter": "python",
   "pygments_lexer": "ipython3",
   "version": "3.9.18"
  }
 },
 "nbformat": 4,
 "nbformat_minor": 5
}
