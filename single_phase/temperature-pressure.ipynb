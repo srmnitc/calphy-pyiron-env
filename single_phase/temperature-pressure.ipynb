{
 "cells": [
  {
   "cell_type": "markdown",
   "id": "422deb0b-5bc1-4e2a-921b-a12ba83bca46",
   "metadata": {},
   "source": [
    "# Pressure-temperature phase diagram\n"
   ]
  },
  {
   "cell_type": "code",
   "execution_count": 1,
   "id": "7aebdc3c-c25b-4837-8401-adde73cee74a",
   "metadata": {},
   "outputs": [
    {
     "name": "stderr",
     "output_type": "stream",
     "text": [
      "/home/menon/miniconda3/envs/workshop/lib/python3.9/site-packages/numpy/core/getlimits.py:542: UserWarning: Signature b'\\x00\\xd0\\xcc\\xcc\\xcc\\xcc\\xcc\\xcc\\xfb\\xbf\\x00\\x00\\x00\\x00\\x00\\x00' for <class 'numpy.longdouble'> does not match any known type: falling back to type probe function.\n",
      "This warnings indicates broken support for the dtype!\n",
      "  machar = _get_machar(dtype)\n"
     ]
    },
    {
     "data": {
      "application/vnd.jupyter.widget-view+json": {
       "model_id": "9a18eec7a8c046f3b79e09cad0943b08",
       "version_major": 2,
       "version_minor": 0
      },
      "text/plain": []
     },
     "metadata": {},
     "output_type": "display_data"
    }
   ],
   "source": [
    "from pyiron_atomistics import Project\n",
    "import os\n",
    "import numpy as np\n",
    "import matplotlib.pyplot as plt"
   ]
  },
  {
   "cell_type": "code",
   "execution_count": null,
   "id": "e4598f77-953d-4a96-a881-986bd0fe0343",
   "metadata": {},
   "outputs": [],
   "source": [
    "pr = Project(\"18\")"
   ]
  },
  {
   "cell_type": "markdown",
   "id": "41a658ca-057f-4acf-b508-0112eca07da8",
   "metadata": {},
   "source": [
    "There are two sets of inputs here, for quick testing you can use the fast setup. For the paper I would use the second set."
   ]
  },
  {
   "cell_type": "markdown",
   "id": "fb39add2-c139-4a78-900b-1a8e0415bddc",
   "metadata": {},
   "source": [
    "### Fast input"
   ]
  },
  {
   "cell_type": "code",
   "execution_count": 3,
   "id": "95959ac3-69a9-4a47-9569-98810d2bd7e2",
   "metadata": {},
   "outputs": [],
   "source": [
    "n_eq = 25000 #equilibriation steps\n",
    "n_int = 50000 #integration steps\n",
    "n_iter = 1 #number of independent calculations \n",
    "N = 7 # system size NxNxN"
   ]
  },
  {
   "cell_type": "markdown",
   "id": "429bb0d2-cced-4589-91a3-eeb564887354",
   "metadata": {},
   "source": [
    "### Better input"
   ]
  },
  {
   "cell_type": "code",
   "execution_count": null,
   "id": "e2972e4e-4e8a-40be-98e7-34e86c041e5e",
   "metadata": {},
   "outputs": [],
   "source": [
    "n_eq = 25000\n",
    "n_int = 100000\n",
    "n_iter = 3\n",
    "N = 10"
   ]
  },
  {
   "cell_type": "markdown",
   "id": "9b1fb4bb-a73f-4f25-9f9a-835e282a85ec",
   "metadata": {},
   "source": [
    "This is a fit function from the EAM data, one could use it to get an approximate value of Tm at various pressures"
   ]
  },
  {
   "cell_type": "code",
   "execution_count": 4,
   "id": "be8af363-928c-4807-b15d-fba247bfb95d",
   "metadata": {},
   "outputs": [],
   "source": [
    "ff = np.poly1d([ 49.0026738 , 903.18716578])"
   ]
  },
  {
   "cell_type": "markdown",
   "id": "f377c98c-1279-4b56-a86a-32853d716350",
   "metadata": {},
   "source": [
    "For example at 5 GPa"
   ]
  },
  {
   "cell_type": "code",
   "execution_count": 5,
   "id": "ee47b909-8916-484e-ba4e-267a7563ba7a",
   "metadata": {},
   "outputs": [
    {
     "data": {
      "text/plain": [
       "1148.20053478"
      ]
     },
     "execution_count": 5,
     "metadata": {},
     "output_type": "execute_result"
    }
   ],
   "source": [
    "np.polyval(ff, 5)"
   ]
  },
  {
   "cell_type": "code",
   "execution_count": 7,
   "id": "30be547a-e043-4e44-9102-c54fb60ebda8",
   "metadata": {},
   "outputs": [],
   "source": [
    "pr = Project('pt')"
   ]
  },
  {
   "cell_type": "code",
   "execution_count": 8,
   "id": "01857b8b-6aba-48b4-b6ac-a3ec81795be6",
   "metadata": {},
   "outputs": [
    {
     "name": "stdout",
     "output_type": "stream",
     "text": [
      "The job fcc_1000_70000 was saved and received the ID: 897\n",
      "The job lqd_1000_70000 was saved and received the ID: 898\n"
     ]
    }
   ],
   "source": [
    "temp = [1000, 1300]\n",
    "press = 70000 #note that pressure is in bars\n",
    "\n",
    "job = pr.create.job.Calphy(f'fcc_{temp[0]}_{press}', \n",
    "                           delete_aborted_job=True, \n",
    "                           delete_existing_job=True)\n",
    "structure = pr.create.structure.bulk(\"Al\", cubic=True).repeat(N)\n",
    "job.structure = structure\n",
    "job.potential = 'AlLi-atomicrex'\n",
    "job.server.cores = 4 #add cores as needed\n",
    "#job.server.queue = \"s_cmfe\"\n",
    "job.calc_free_energy(temperature=temp, \n",
    "                     pressure=press,\n",
    "                     n_equilibration_steps=n_eq, \n",
    "                     n_switching_steps=n_int,\n",
    "                     n_iterations=n_iter,\n",
    "                     reference_phase=\"solid\")\n",
    "job.run()\n",
    "\n",
    "#lqd job\n",
    "job = pr.create.job.Calphy(f'lqd_{temp[0]}_{press}', \n",
    "                           delete_aborted_job=True, \n",
    "                           delete_existing_job=True)\n",
    "structure = pr.create.structure.bulk(\"Al\", cubic=True).repeat(N)\n",
    "job.structure = structure\n",
    "job.potential = 'AlLi-atomicrex'\n",
    "job.server.cores = 4 #add cores as needed\n",
    "#job.server.queue = \"s_cmfe\"\n",
    "job.calc_free_energy(temperature=temp, \n",
    "                     pressure=press,\n",
    "                     n_equilibration_steps=n_eq, \n",
    "                     n_switching_steps=n_int,\n",
    "                     n_iterations=n_iter,\n",
    "                     reference_phase=\"liquid\")\n",
    "job.run()"
   ]
  },
  {
   "cell_type": "markdown",
   "id": "30b3f2c5-8184-4eb0-977f-ec9ced4811e4",
   "metadata": {},
   "source": [
    "Now extract Tm"
   ]
  },
  {
   "cell_type": "code",
   "execution_count": 9,
   "id": "560841bf-7e22-442a-bf9e-a387fcd7bb80",
   "metadata": {},
   "outputs": [],
   "source": [
    "def get_tm(arr1, arr2, t):\n",
    "    arg = np.argsort(np.abs(arr1-arr2))[0]\n",
    "    print(t[arg])\n",
    "    plt.plot(t, arr1)\n",
    "    plt.plot(t, arr2)\n",
    "    plt.axvline(t[arg], c='black', ls='dashed')"
   ]
  },
  {
   "cell_type": "code",
   "execution_count": 10,
   "id": "4ca20731-f337-4b03-9fe9-e3180f679cf4",
   "metadata": {},
   "outputs": [
    {
     "name": "stdout",
     "output_type": "stream",
     "text": [
      "1249.5791565788168\n"
     ]
    },
    {
     "data": {
      "image/png": "[encoded data removed]",
      "text/plain": [
       "<Figure size 640x480 with 1 Axes>"
      ]
     },
     "metadata": {},
     "output_type": "display_data"
    }
   ],
   "source": [
    "get_tm(pr['fcc_1000_70000/output/energy_free'],\n",
    "      pr['lqd_1000_70000/output/energy_free'],\n",
    "      pr['lqd_1000_70000/output/temperature'])"
   ]
  }
 ],
 "metadata": {
  "kernelspec": {
   "display_name": "Python 3 (ipykernel)",
   "language": "python",
   "name": "python3"
  },
  "language_info": {
   "codemirror_mode": {
    "name": "ipython",
    "version": 3
   },
   "file_extension": ".py",
   "mimetype": "text/x-python",
   "name": "python",
   "nbconvert_exporter": "python",
   "pygments_lexer": "ipython3",
   "version": "3.9.18"
  }
 },
 "nbformat": 4,
 "nbformat_minor": 5
}
